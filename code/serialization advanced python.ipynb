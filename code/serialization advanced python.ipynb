{
 "cells": [
  {
   "cell_type": "markdown",
   "metadata": {},
   "source": [
    "# Serialization"
   ]
  },
  {
   "cell_type": "code",
   "execution_count": 3,
   "metadata": {},
   "outputs": [],
   "source": [
    "import pickle"
   ]
  },
  {
   "cell_type": "code",
   "execution_count": 10,
   "metadata": {},
   "outputs": [],
   "source": [
    "# A test object\n",
    "test_dict = {\n",
    "    \"Hello\": \"World!\",\n",
    "    \"Name\":\"Harshvardhan Singh\",\n",
    "    \"College\":\"fcrit, vashi\",\n",
    "    \"roll number\":1019161\n",
    "    }"
   ]
  },
  {
   "cell_type": "code",
   "execution_count": 11,
   "metadata": {},
   "outputs": [
    {
     "name": "stdout",
     "output_type": "stream",
     "text": [
      "Written object {'Hello': 'World!', 'Name': 'Harshvardhan Singh', 'College': 'fcrit, vashi', 'roll number': 1019161}\n"
     ]
    }
   ],
   "source": [
    "# Serialization\n",
    "with open(\"test.pickle\", \"wb\") as outfile: # wb means write binary\n",
    "    pickle.dump(test_dict, outfile)\n",
    "    outfile.close()\n",
    "print(\"Written object\", test_dict)"
   ]
  },
  {
   "cell_type": "code",
   "execution_count": 13,
   "metadata": {},
   "outputs": [
    {
     "name": "stdout",
     "output_type": "stream",
     "text": [
      "Reconstructed object {'Hello': 'World!', 'Name': 'Harshvardhan Singh', 'College': 'fcrit, vashi', 'roll number': 1019161}\n"
     ]
    }
   ],
   "source": [
    "# Deserialization\n",
    "with open(\"test.pickle\", \"rb\") as infile:\n",
    "    test_dict_reconstructed = pickle.load(infile)\n",
    "    infile.close()\n",
    "print(\"Reconstructed object\", test_dict_reconstructed)"
   ]
  },
  {
   "cell_type": "code",
   "execution_count": 4,
   "metadata": {},
   "outputs": [
    {
     "name": "stdout",
     "output_type": "stream",
     "text": [
      "Create portable serialized representations of Python objects.\n",
      "\n",
      "See module copyreg for a mechanism for registering custom picklers.\n",
      "See module pickletools source for extensive comments.\n",
      "\n",
      "Classes:\n",
      "\n",
      "    Pickler\n",
      "    Unpickler\n",
      "\n",
      "Functions:\n",
      "\n",
      "    dump(object, file)\n",
      "    dumps(object) -> string\n",
      "    load(file) -> object\n",
      "    loads(bytes) -> object\n",
      "\n",
      "Misc variables:\n",
      "\n",
      "    __version__\n",
      "    format_version\n",
      "    compatible_formats\n",
      "\n",
      "\n"
     ]
    }
   ],
   "source": [
    "print(pickle.__doc__)"
   ]
  },
  {
   "cell_type": "markdown",
   "metadata": {},
   "source": [
    "### What Is Serialization, and Why Should We Care?\n",
    "\n",
    "Think about storing an integer; how would you store that in a file or transmit it? That’s easy! We can just write the integer to a file and store or transmit that file.\n",
    "\n",
    "But now, what if we think about storing a Python object (e.g., a Python dictionary or a Pandas DataFrame), which has a complex structure and many attributes (e.g., the columns and index of the DataFrame, and the data type of each column)? How would you store it as a file or transmit it to another computer?\n",
    "\n",
    "This is where serialization comes in!\n",
    "\n",
    "Serialization is the process of converting the object into a format that can be stored or transmitted. After transmitting or storing the serialized data, we are able to reconstruct the object later and obtain the exact same structure/object, which makes it really convenient for us to continue using the stored object later on instead of reconstructing the object from scratch.\n",
    "\n",
    "In Python, there are many different formats for serialization available. One common example of hash maps (Python dictionaries) that works across many languages is the JSON file format which is human-readable and allows us to store the dictionary and recreate it with the same structure. But JSON can only store basic structures such as a list and dictionary, and it can only keep strings and numbers. We cannot ask JSON to remember the data type (e.g., numpy float32 vs. float64). It also cannot distinguish between Python tuples and lists.\n",
    "\n",
    "More powerful serialization formats exist. In the following, we will explore two common serialization libraries in Python, namely pickle and h5py."
   ]
  },
  {
   "cell_type": "code",
   "execution_count": null,
   "metadata": {},
   "outputs": [],
   "source": []
  }
 ],
 "metadata": {
  "kernelspec": {
   "display_name": "Python 3.10.4 64-bit",
   "language": "python",
   "name": "python3"
  },
  "language_info": {
   "codemirror_mode": {
    "name": "ipython",
    "version": 3
   },
   "file_extension": ".py",
   "mimetype": "text/x-python",
   "name": "python",
   "nbconvert_exporter": "python",
   "pygments_lexer": "ipython3",
   "version": "3.10.4"
  },
  "orig_nbformat": 4,
  "vscode": {
   "interpreter": {
    "hash": "66954831142f0c87d75060f7914f9c4828f70897b81947b22650084346dbfd37"
   }
  }
 },
 "nbformat": 4,
 "nbformat_minor": 2
}
