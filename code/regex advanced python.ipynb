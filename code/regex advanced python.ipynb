{
 "cells": [
  {
   "cell_type": "markdown",
   "metadata": {},
   "source": [
    "# Regular Expression"
   ]
  },
  {
   "cell_type": "code",
   "execution_count": 1,
   "metadata": {},
   "outputs": [],
   "source": [
    "import re"
   ]
  },
  {
   "cell_type": "code",
   "execution_count": 63,
   "metadata": {},
   "outputs": [
    {
     "data": {
      "text/plain": [
       "['.xyz@amail.com']"
      ]
     },
     "execution_count": 63,
     "metadata": {},
     "output_type": "execute_result"
    }
   ],
   "source": [
    "string=\"my email is abc123@gmail.com not 123.xyz@amail.com\"\n",
    "pattern = \"[a-z0-9]+@[a-z]+\\.[a-z]{2,3}\"\n",
    "re.findall(pattern,string)"
   ]
  },
  {
   "cell_type": "code",
   "execution_count": 5,
   "metadata": {},
   "outputs": [
    {
     "name": "stdout",
     "output_type": "stream",
     "text": [
      "Match  Pattern  RegexFlag  Scanner  compile  copyreg  enum  error  escape  findall  finditer  fullmatch  functools  match  purge  search  split  sub  subn  template  "
     ]
    }
   ],
   "source": [
    "methods = dir(re)\n",
    "for method in range(0,len(dir(re))):\n",
    "    if \"_\" in methods[method] or str(methods[method]).isupper():\n",
    "        continue\n",
    "    print(methods[method],end = \"  \") "
   ]
  }
 ],
 "metadata": {
  "kernelspec": {
   "display_name": "Python 3.10.4 64-bit",
   "language": "python",
   "name": "python3"
  },
  "language_info": {
   "codemirror_mode": {
    "name": "ipython",
    "version": 3
   },
   "file_extension": ".py",
   "mimetype": "text/x-python",
   "name": "python",
   "nbconvert_exporter": "python",
   "pygments_lexer": "ipython3",
   "version": "3.10.4"
  },
  "orig_nbformat": 4,
  "vscode": {
   "interpreter": {
    "hash": "66954831142f0c87d75060f7914f9c4828f70897b81947b22650084346dbfd37"
   }
  }
 },
 "nbformat": 4,
 "nbformat_minor": 2
}
